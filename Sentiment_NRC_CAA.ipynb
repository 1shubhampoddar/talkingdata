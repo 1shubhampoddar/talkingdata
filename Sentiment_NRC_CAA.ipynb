{
 "cells": [
  {
   "cell_type": "code",
   "execution_count": 1,
   "metadata": {},
   "outputs": [],
   "source": [
    "import tweepy\n",
    "import pandas as pd"
   ]
  },
  {
   "cell_type": "code",
   "execution_count": 2,
   "metadata": {},
   "outputs": [],
   "source": [
    "consumer_key = '8F6g6LFhVWYP6SaYmq3x0wJhs'\n",
    "consumer_secret = 'Pcu6yLtKJLwOeAfVtZgA8rfdQ8TMn4w4uMFeJ3Ca824KeOg3qw'\n",
    "access_token = '3814958176-rUAJTJ2ULERlCZd76ceXUYu1jmV1bOlHnaF0Kyg'\n",
    "access_token_secret = 'FGa2b2gP4Yd5F4PxScQ1WqhRuFOjiVUcsqFbmS5YAczoF'\n",
    "\n",
    "auth = tweepy.OAuthHandler(consumer_key,consumer_secret)\n",
    "auth.set_access_token(access_token, access_token_secret)\n",
    "api = tweepy.API(auth)\n",
    "public_tweets = tweepy.Cursor(api.search, q='NRC, CAA', lang = \"en\")\n",
    "tweet_count = 500\n",
    "\n",
    "tweets_result = public_tweets.items(tweet_count)\n",
    "\n",
    "tweets = []\n",
    "\n",
    "for tweet in tweets_result:\n",
    "    tweets.append(tweet.text)"
   ]
  },
  {
   "cell_type": "code",
   "execution_count": 3,
   "metadata": {},
   "outputs": [],
   "source": [
    "tweet_df = pd.DataFrame({'tweet':tweets})"
   ]
  },
  {
   "cell_type": "code",
   "execution_count": 4,
   "metadata": {},
   "outputs": [
    {
     "data": {
      "text/html": [
       "<div>\n",
       "<style scoped>\n",
       "    .dataframe tbody tr th:only-of-type {\n",
       "        vertical-align: middle;\n",
       "    }\n",
       "\n",
       "    .dataframe tbody tr th {\n",
       "        vertical-align: top;\n",
       "    }\n",
       "\n",
       "    .dataframe thead th {\n",
       "        text-align: right;\n",
       "    }\n",
       "</style>\n",
       "<table border=\"1\" class=\"dataframe\">\n",
       "  <thead>\n",
       "    <tr style=\"text-align: right;\">\n",
       "      <th></th>\n",
       "      <th>tweet</th>\n",
       "    </tr>\n",
       "  </thead>\n",
       "  <tbody>\n",
       "    <tr>\n",
       "      <th>0</th>\n",
       "      <td>RT @bkrs100: Drone shots of Massive #mangalore...</td>\n",
       "    </tr>\n",
       "    <tr>\n",
       "      <th>1</th>\n",
       "      <td>RT @poojansahil: That feeling when your lyrics...</td>\n",
       "    </tr>\n",
       "    <tr>\n",
       "      <th>2</th>\n",
       "      <td>RT @shadabmoizee: After 25 days, @BhimArmyChie...</td>\n",
       "    </tr>\n",
       "    <tr>\n",
       "      <th>3</th>\n",
       "      <td>RT @4Nahal: This is from Darbhanga, Bihar.\\n\\n...</td>\n",
       "    </tr>\n",
       "    <tr>\n",
       "      <th>4</th>\n",
       "      <td>RT @mirzasomanbeig: @IndiaNisha18 @narendramod...</td>\n",
       "    </tr>\n",
       "  </tbody>\n",
       "</table>\n",
       "</div>"
      ],
      "text/plain": [
       "                                               tweet\n",
       "0  RT @bkrs100: Drone shots of Massive #mangalore...\n",
       "1  RT @poojansahil: That feeling when your lyrics...\n",
       "2  RT @shadabmoizee: After 25 days, @BhimArmyChie...\n",
       "3  RT @4Nahal: This is from Darbhanga, Bihar.\\n\\n...\n",
       "4  RT @mirzasomanbeig: @IndiaNisha18 @narendramod..."
      ]
     },
     "execution_count": 4,
     "metadata": {},
     "output_type": "execute_result"
    }
   ],
   "source": [
    "tweet_df.head()"
   ]
  },
  {
   "cell_type": "code",
   "execution_count": 5,
   "metadata": {},
   "outputs": [],
   "source": [
    "import nltk"
   ]
  },
  {
   "cell_type": "code",
   "execution_count": 6,
   "metadata": {},
   "outputs": [
    {
     "name": "stderr",
     "output_type": "stream",
     "text": [
      "[nltk_data] Downloading package vader_lexicon to\n",
      "[nltk_data]     C:\\Users\\shubh\\AppData\\Roaming\\nltk_data...\n",
      "[nltk_data]   Package vader_lexicon is already up-to-date!\n"
     ]
    },
    {
     "data": {
      "text/plain": [
       "True"
      ]
     },
     "execution_count": 6,
     "metadata": {},
     "output_type": "execute_result"
    }
   ],
   "source": [
    "nltk.download('vader_lexicon')"
   ]
  },
  {
   "cell_type": "code",
   "execution_count": 7,
   "metadata": {},
   "outputs": [],
   "source": [
    "from nltk.sentiment.vader import SentimentIntensityAnalyzer"
   ]
  },
  {
   "cell_type": "code",
   "execution_count": 8,
   "metadata": {},
   "outputs": [],
   "source": [
    "sid = SentimentIntensityAnalyzer()"
   ]
  },
  {
   "cell_type": "code",
   "execution_count": 9,
   "metadata": {},
   "outputs": [
    {
     "data": {
      "text/plain": [
       "{'neg': 0.0, 'neu': 1.0, 'pos': 0.0, 'compound': 0.0}"
      ]
     },
     "execution_count": 9,
     "metadata": {},
     "output_type": "execute_result"
    }
   ],
   "source": [
    "sid.polarity_scores(tweet_df.loc[0]['tweet'])"
   ]
  },
  {
   "cell_type": "code",
   "execution_count": 10,
   "metadata": {},
   "outputs": [
    {
     "data": {
      "text/html": [
       "<div>\n",
       "<style scoped>\n",
       "    .dataframe tbody tr th:only-of-type {\n",
       "        vertical-align: middle;\n",
       "    }\n",
       "\n",
       "    .dataframe tbody tr th {\n",
       "        vertical-align: top;\n",
       "    }\n",
       "\n",
       "    .dataframe thead th {\n",
       "        text-align: right;\n",
       "    }\n",
       "</style>\n",
       "<table border=\"1\" class=\"dataframe\">\n",
       "  <thead>\n",
       "    <tr style=\"text-align: right;\">\n",
       "      <th></th>\n",
       "      <th>tweet</th>\n",
       "      <th>scores</th>\n",
       "    </tr>\n",
       "  </thead>\n",
       "  <tbody>\n",
       "    <tr>\n",
       "      <th>0</th>\n",
       "      <td>RT @bkrs100: Drone shots of Massive #mangalore...</td>\n",
       "      <td>{'neg': 0.0, 'neu': 1.0, 'pos': 0.0, 'compound...</td>\n",
       "    </tr>\n",
       "    <tr>\n",
       "      <th>1</th>\n",
       "      <td>RT @poojansahil: That feeling when your lyrics...</td>\n",
       "      <td>{'neg': 0.0, 'neu': 0.852, 'pos': 0.148, 'comp...</td>\n",
       "    </tr>\n",
       "    <tr>\n",
       "      <th>2</th>\n",
       "      <td>RT @shadabmoizee: After 25 days, @BhimArmyChie...</td>\n",
       "      <td>{'neg': 0.231, 'neu': 0.769, 'pos': 0.0, 'comp...</td>\n",
       "    </tr>\n",
       "    <tr>\n",
       "      <th>3</th>\n",
       "      <td>RT @4Nahal: This is from Darbhanga, Bihar.\\n\\n...</td>\n",
       "      <td>{'neg': 0.113, 'neu': 0.887, 'pos': 0.0, 'comp...</td>\n",
       "    </tr>\n",
       "    <tr>\n",
       "      <th>4</th>\n",
       "      <td>RT @mirzasomanbeig: @IndiaNisha18 @narendramod...</td>\n",
       "      <td>{'neg': 0.153, 'neu': 0.741, 'pos': 0.106, 'co...</td>\n",
       "    </tr>\n",
       "  </tbody>\n",
       "</table>\n",
       "</div>"
      ],
      "text/plain": [
       "                                               tweet  \\\n",
       "0  RT @bkrs100: Drone shots of Massive #mangalore...   \n",
       "1  RT @poojansahil: That feeling when your lyrics...   \n",
       "2  RT @shadabmoizee: After 25 days, @BhimArmyChie...   \n",
       "3  RT @4Nahal: This is from Darbhanga, Bihar.\\n\\n...   \n",
       "4  RT @mirzasomanbeig: @IndiaNisha18 @narendramod...   \n",
       "\n",
       "                                              scores  \n",
       "0  {'neg': 0.0, 'neu': 1.0, 'pos': 0.0, 'compound...  \n",
       "1  {'neg': 0.0, 'neu': 0.852, 'pos': 0.148, 'comp...  \n",
       "2  {'neg': 0.231, 'neu': 0.769, 'pos': 0.0, 'comp...  \n",
       "3  {'neg': 0.113, 'neu': 0.887, 'pos': 0.0, 'comp...  \n",
       "4  {'neg': 0.153, 'neu': 0.741, 'pos': 0.106, 'co...  "
      ]
     },
     "execution_count": 10,
     "metadata": {},
     "output_type": "execute_result"
    }
   ],
   "source": [
    "tweet_df['scores'] = tweet_df['tweet'].apply(lambda tweet: sid.polarity_scores(tweet))\n",
    "\n",
    "tweet_df.head()"
   ]
  },
  {
   "cell_type": "code",
   "execution_count": 11,
   "metadata": {},
   "outputs": [
    {
     "data": {
      "text/html": [
       "<div>\n",
       "<style scoped>\n",
       "    .dataframe tbody tr th:only-of-type {\n",
       "        vertical-align: middle;\n",
       "    }\n",
       "\n",
       "    .dataframe tbody tr th {\n",
       "        vertical-align: top;\n",
       "    }\n",
       "\n",
       "    .dataframe thead th {\n",
       "        text-align: right;\n",
       "    }\n",
       "</style>\n",
       "<table border=\"1\" class=\"dataframe\">\n",
       "  <thead>\n",
       "    <tr style=\"text-align: right;\">\n",
       "      <th></th>\n",
       "      <th>tweet</th>\n",
       "      <th>scores</th>\n",
       "      <th>compound</th>\n",
       "    </tr>\n",
       "  </thead>\n",
       "  <tbody>\n",
       "    <tr>\n",
       "      <th>0</th>\n",
       "      <td>RT @bkrs100: Drone shots of Massive #mangalore...</td>\n",
       "      <td>{'neg': 0.0, 'neu': 1.0, 'pos': 0.0, 'compound...</td>\n",
       "      <td>0.0000</td>\n",
       "    </tr>\n",
       "    <tr>\n",
       "      <th>1</th>\n",
       "      <td>RT @poojansahil: That feeling when your lyrics...</td>\n",
       "      <td>{'neg': 0.0, 'neu': 0.852, 'pos': 0.148, 'comp...</td>\n",
       "      <td>0.2695</td>\n",
       "    </tr>\n",
       "    <tr>\n",
       "      <th>2</th>\n",
       "      <td>RT @shadabmoizee: After 25 days, @BhimArmyChie...</td>\n",
       "      <td>{'neg': 0.231, 'neu': 0.769, 'pos': 0.0, 'comp...</td>\n",
       "      <td>-0.6597</td>\n",
       "    </tr>\n",
       "    <tr>\n",
       "      <th>3</th>\n",
       "      <td>RT @4Nahal: This is from Darbhanga, Bihar.\\n\\n...</td>\n",
       "      <td>{'neg': 0.113, 'neu': 0.887, 'pos': 0.0, 'comp...</td>\n",
       "      <td>-0.3182</td>\n",
       "    </tr>\n",
       "    <tr>\n",
       "      <th>4</th>\n",
       "      <td>RT @mirzasomanbeig: @IndiaNisha18 @narendramod...</td>\n",
       "      <td>{'neg': 0.153, 'neu': 0.741, 'pos': 0.106, 'co...</td>\n",
       "      <td>-0.2263</td>\n",
       "    </tr>\n",
       "  </tbody>\n",
       "</table>\n",
       "</div>"
      ],
      "text/plain": [
       "                                               tweet  \\\n",
       "0  RT @bkrs100: Drone shots of Massive #mangalore...   \n",
       "1  RT @poojansahil: That feeling when your lyrics...   \n",
       "2  RT @shadabmoizee: After 25 days, @BhimArmyChie...   \n",
       "3  RT @4Nahal: This is from Darbhanga, Bihar.\\n\\n...   \n",
       "4  RT @mirzasomanbeig: @IndiaNisha18 @narendramod...   \n",
       "\n",
       "                                              scores  compound  \n",
       "0  {'neg': 0.0, 'neu': 1.0, 'pos': 0.0, 'compound...    0.0000  \n",
       "1  {'neg': 0.0, 'neu': 0.852, 'pos': 0.148, 'comp...    0.2695  \n",
       "2  {'neg': 0.231, 'neu': 0.769, 'pos': 0.0, 'comp...   -0.6597  \n",
       "3  {'neg': 0.113, 'neu': 0.887, 'pos': 0.0, 'comp...   -0.3182  \n",
       "4  {'neg': 0.153, 'neu': 0.741, 'pos': 0.106, 'co...   -0.2263  "
      ]
     },
     "execution_count": 11,
     "metadata": {},
     "output_type": "execute_result"
    }
   ],
   "source": [
    "tweet_df['compound']  = tweet_df['scores'].apply(lambda score_dict: score_dict['compound'])\n",
    "\n",
    "tweet_df.head()"
   ]
  },
  {
   "cell_type": "code",
   "execution_count": 12,
   "metadata": {},
   "outputs": [
    {
     "data": {
      "text/html": [
       "<div>\n",
       "<style scoped>\n",
       "    .dataframe tbody tr th:only-of-type {\n",
       "        vertical-align: middle;\n",
       "    }\n",
       "\n",
       "    .dataframe tbody tr th {\n",
       "        vertical-align: top;\n",
       "    }\n",
       "\n",
       "    .dataframe thead th {\n",
       "        text-align: right;\n",
       "    }\n",
       "</style>\n",
       "<table border=\"1\" class=\"dataframe\">\n",
       "  <thead>\n",
       "    <tr style=\"text-align: right;\">\n",
       "      <th></th>\n",
       "      <th>tweet</th>\n",
       "      <th>scores</th>\n",
       "      <th>compound</th>\n",
       "      <th>comp_score</th>\n",
       "    </tr>\n",
       "  </thead>\n",
       "  <tbody>\n",
       "    <tr>\n",
       "      <th>0</th>\n",
       "      <td>RT @bkrs100: Drone shots of Massive #mangalore...</td>\n",
       "      <td>{'neg': 0.0, 'neu': 1.0, 'pos': 0.0, 'compound...</td>\n",
       "      <td>0.0000</td>\n",
       "      <td>Neutral</td>\n",
       "    </tr>\n",
       "    <tr>\n",
       "      <th>1</th>\n",
       "      <td>RT @poojansahil: That feeling when your lyrics...</td>\n",
       "      <td>{'neg': 0.0, 'neu': 0.852, 'pos': 0.148, 'comp...</td>\n",
       "      <td>0.2695</td>\n",
       "      <td>Positive</td>\n",
       "    </tr>\n",
       "    <tr>\n",
       "      <th>2</th>\n",
       "      <td>RT @shadabmoizee: After 25 days, @BhimArmyChie...</td>\n",
       "      <td>{'neg': 0.231, 'neu': 0.769, 'pos': 0.0, 'comp...</td>\n",
       "      <td>-0.6597</td>\n",
       "      <td>Negative</td>\n",
       "    </tr>\n",
       "    <tr>\n",
       "      <th>3</th>\n",
       "      <td>RT @4Nahal: This is from Darbhanga, Bihar.\\n\\n...</td>\n",
       "      <td>{'neg': 0.113, 'neu': 0.887, 'pos': 0.0, 'comp...</td>\n",
       "      <td>-0.3182</td>\n",
       "      <td>Negative</td>\n",
       "    </tr>\n",
       "    <tr>\n",
       "      <th>4</th>\n",
       "      <td>RT @mirzasomanbeig: @IndiaNisha18 @narendramod...</td>\n",
       "      <td>{'neg': 0.153, 'neu': 0.741, 'pos': 0.106, 'co...</td>\n",
       "      <td>-0.2263</td>\n",
       "      <td>Negative</td>\n",
       "    </tr>\n",
       "  </tbody>\n",
       "</table>\n",
       "</div>"
      ],
      "text/plain": [
       "                                               tweet  \\\n",
       "0  RT @bkrs100: Drone shots of Massive #mangalore...   \n",
       "1  RT @poojansahil: That feeling when your lyrics...   \n",
       "2  RT @shadabmoizee: After 25 days, @BhimArmyChie...   \n",
       "3  RT @4Nahal: This is from Darbhanga, Bihar.\\n\\n...   \n",
       "4  RT @mirzasomanbeig: @IndiaNisha18 @narendramod...   \n",
       "\n",
       "                                              scores  compound comp_score  \n",
       "0  {'neg': 0.0, 'neu': 1.0, 'pos': 0.0, 'compound...    0.0000    Neutral  \n",
       "1  {'neg': 0.0, 'neu': 0.852, 'pos': 0.148, 'comp...    0.2695   Positive  \n",
       "2  {'neg': 0.231, 'neu': 0.769, 'pos': 0.0, 'comp...   -0.6597   Negative  \n",
       "3  {'neg': 0.113, 'neu': 0.887, 'pos': 0.0, 'comp...   -0.3182   Negative  \n",
       "4  {'neg': 0.153, 'neu': 0.741, 'pos': 0.106, 'co...   -0.2263   Negative  "
      ]
     },
     "execution_count": 12,
     "metadata": {},
     "output_type": "execute_result"
    }
   ],
   "source": [
    "def sentiment(score):\n",
    "    if score >0:\n",
    "        return \"Positive\"\n",
    "    elif score ==0:\n",
    "        return \"Neutral\"\n",
    "    else:\n",
    "        return \"Negative\"\n",
    "\n",
    "tweet_df['comp_score'] = tweet_df['compound'].apply(sentiment)\n",
    "\n",
    "tweet_df.head()"
   ]
  },
  {
   "cell_type": "code",
   "execution_count": 13,
   "metadata": {},
   "outputs": [],
   "source": [
    "graph = tweet_df[\"comp_score\"].value_counts()"
   ]
  },
  {
   "cell_type": "code",
   "execution_count": 14,
   "metadata": {},
   "outputs": [],
   "source": [
    "import matplotlib.pyplot as plt"
   ]
  },
  {
   "cell_type": "code",
   "execution_count": 15,
   "metadata": {},
   "outputs": [
    {
     "data": {
      "image/png": "[encoded data removed]",
      "text/plain": [
       "<Figure size 432x288 with 1 Axes>"
      ]
     },
     "metadata": {},
     "output_type": "display_data"
    }
   ],
   "source": [
    "labels = [\"Negative\", \"Positive\", \"Neutral\"]\n",
    "plt.pie(graph, labels = labels, autopct = \"%1.1f%%\");"
   ]
  },
  {
   "cell_type": "code",
   "execution_count": null,
   "metadata": {},
   "outputs": [],
   "source": []
  }
 ],
 "metadata": {
  "kernelspec": {
   "display_name": "Python 3",
   "language": "python",
   "name": "python3"
  },
  "language_info": {
   "codemirror_mode": {
    "name": "ipython",
    "version": 3
   },
   "file_extension": ".py",
   "mimetype": "text/x-python",
   "name": "python",
   "nbconvert_exporter": "python",
   "pygments_lexer": "ipython3",
   "version": "3.7.3"
  }
 },
 "nbformat": 4,
 "nbformat_minor": 2
}
